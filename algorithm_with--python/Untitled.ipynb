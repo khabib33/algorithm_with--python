{
 "cells": [
  {
   "cell_type": "code",
   "execution_count": 1,
   "id": "d203b9d4",
   "metadata": {},
   "outputs": [
    {
     "name": "stdout",
     "output_type": "stream",
     "text": [
      "Collucting images for ()\n",
      "Collucting images for ()\n",
      "Collucting images for ()\n",
      "Collucting images for ()\n",
      "Collucting images for ()\n"
     ]
    }
   ],
   "source": [
    "import cv2 as cv #opencv\n",
    "import os\n",
    "import time \n",
    "import uuid\n",
    "IMAGES_PATH = os.path.join('Tensorflow','workspace','images')\n",
    "labels = ['hello', 'thanks', 'yes', 'no', 'I_love_you']\n",
    "number_imgs = 10\n",
    "if not os.path.exists(IMAGES_PATH):\n",
    "    if os.name =='posix':\n",
    "        !mkdir -p {IMAGES_PATH}\n",
    "    if os.name =='nt':\n",
    "        !mkdir {IMAGES_PATH}\n",
    "\n",
    "for label in labels:\n",
    "    path = os.path.join(IMAGES_PATH, label)\n",
    "    if not os.path.exists(path):\n",
    "        !mkdir {path}\n",
    "    \n",
    "for label in labels:\n",
    "    cap = cv.VideoCapture(0)\n",
    "    print('Collucting images for ()'.format(label))\n",
    "    time.sleep(3)\n",
    "    for imgnum in range(number_imgs):\n",
    "        ret, frame = cap.read()\n",
    "        imagename = os.path.join(IMAGES_PATH, label, label+ '.'+'().jpg'.format(str(uuid.uuid1())))\n",
    "        cv.imwrite(imagename , frame)\n",
    "        cv.imshow('frame', frame)\n",
    "        time.sleep(2)\n",
    "\n",
    "        if cv.waitKey(1) & 0xFF == ord('q'):\n",
    "            break\n",
    "    cap.release()\n",
    "    cv.destroyAllWindows()"
   ]
  },
  {
   "cell_type": "code",
   "execution_count": null,
   "id": "ec05356e",
   "metadata": {},
   "outputs": [],
   "source": []
  },
  {
   "cell_type": "code",
   "execution_count": null,
   "id": "0b279fb0",
   "metadata": {},
   "outputs": [],
   "source": []
  }
 ],
 "metadata": {
  "kernelspec": {
   "display_name": "Python 3",
   "language": "python",
   "name": "python3"
  },
  "language_info": {
   "codemirror_mode": {
    "name": "ipython",
    "version": 3
   },
   "file_extension": ".py",
   "mimetype": "text/x-python",
   "name": "python",
   "nbconvert_exporter": "python",
   "pygments_lexer": "ipython3",
   "version": "3.8.8"
  }
 },
 "nbformat": 4,
 "nbformat_minor": 5
}
